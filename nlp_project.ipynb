{
 "cells": [
  {
   "cell_type": "markdown",
   "metadata": {},
   "source": [
    "# Deep Learning for NLP - Project"
   ]
  },
  {
   "cell_type": "markdown",
   "metadata": {},
   "source": [
    "RULES:\n",
    "\n",
    "* Do not create any additional cell\n",
    "\n",
    "* Fill in the blanks\n",
    "\n",
    "* All cells should be runnable (modulo trivial compatibility bugs that we'd fix)\n",
    "\n",
    "* 4 / 20 points will be allocated to the clarity of your code\n",
    "\n",
    "* Efficient code will have a bonus\n",
    "\n",
    "DELIVERABLE:\n",
    "\n",
    "* this notebook\n",
    "* the predictions of the SST test set\n",
    "\n",
    "DO NOT INCLUDE THE DATASETS IN THE DELIVERABLE.."
   ]
  },
  {
   "cell_type": "code",
   "execution_count": 1,
   "metadata": {
    "collapsed": true
   },
   "outputs": [],
   "source": [
    "import io\n",
    "import os\n",
    "import numpy as np\n",
    "import pandas as pd\n",
    "import scipy"
   ]
  },
  {
   "cell_type": "code",
   "execution_count": 2,
   "metadata": {
    "collapsed": true
   },
   "outputs": [],
   "source": [
    "PATH_TO_DATA = \"./data/\""
   ]
  },
  {
   "cell_type": "markdown",
   "metadata": {},
   "source": [
    "# 1) Monolingual (English) word embeddings "
   ]
  },
  {
   "cell_type": "code",
   "execution_count": 3,
   "metadata": {},
   "outputs": [],
   "source": [
    "class Word2vec():\n",
    "    def __init__(self, fname, nmax=100000):\n",
    "        self.load_wordvec(fname, nmax)\n",
    "        self.word2id = dict.fromkeys(self.word2vec.keys())\n",
    "        self.id2word = {v: k for k, v in self.word2id.items()}\n",
    "        self.embeddings = np.array(self.word2vec.values())\n",
    "    \n",
    "    def load_wordvec(self, fname, nmax):\n",
    "        self.word2vec = {}\n",
    "        with io.open(fname, encoding='utf-8') as f:\n",
    "            next(f)\n",
    "            for i, line in enumerate(f):\n",
    "                word, vec = line.split(' ', 1)\n",
    "                self.word2vec[word] = np.fromstring(vec, sep=' ')\n",
    "                if i == (nmax - 1):\n",
    "                    break\n",
    "        print('Loaded %s pretrained word vectors' % (len(self.word2vec)))\n",
    "\n",
    "    def most_similar(self, w, K=5):\n",
    "        # K most similar (and different) words: self.score  -  np.argsort \n",
    "        distances = np.array([self.score(w,w_other) for w_other in list(self.word2vec.keys())])\n",
    "        similar_indices = np.argsort(distances)[-(K+1):][::-1]\n",
    "        similar_words = np.take(list(self.word2vec.keys()), similar_indices)\n",
    "        return similar_words[1:K+1]\n",
    "\n",
    "    def score(self, w1, w2):\n",
    "        # cosine similarity: np.dot  -  np.linalg.norm\n",
    "        w1_vec = self.word2vec[w1]\n",
    "        w2_vec = self.word2vec[w2]\n",
    "        return np.dot(w1_vec,w2_vec)/(np.linalg.norm(w1_vec,2)*np.linalg.norm(w2_vec,2))"
   ]
  },
  {
   "cell_type": "code",
   "execution_count": 4,
   "metadata": {},
   "outputs": [
    {
     "name": "stdout",
     "output_type": "stream",
     "text": [
      "Loaded 100000 pretrained word vectors\n",
      "cat dog 0.671683666279249\n",
      "dog pet 0.6842064029669219\n",
      "dogs cats 0.7074389328052404\n",
      "paris france 0.7775108541288563\n",
      "germany berlin 0.7420295235998394\n",
      "['cats' 'kitty' 'kitten' 'feline' 'kitties']\n",
      "['dogs' 'puppy' 'Dog' 'doggie' 'canine']\n",
      "['dog' 'pooches' 'Dogs' 'doggies' 'canines']\n",
      "['france' 'Paris' 'london' 'berlin' 'tokyo']\n",
      "['austria' 'europe' 'german' 'berlin' 'poland']\n"
     ]
    }
   ],
   "source": [
    "w2v = Word2vec(os.path.join(PATH_TO_DATA, 'crawl-300d-200k.vec'), nmax=100000)\n",
    "\n",
    "# You will be evaluated on the output of the following:\n",
    "for w1, w2 in zip(('cat', 'dog', 'dogs', 'paris', 'germany'), ('dog', 'pet', 'cats', 'france', 'berlin')):\n",
    "    print(w1, w2, w2v.score(w1, w2))\n",
    "for w1 in ['cat', 'dog', 'dogs', 'paris', 'germany']:\n",
    "    print(w2v.most_similar(w1))"
   ]
  },
  {
   "cell_type": "code",
   "execution_count": 5,
   "metadata": {},
   "outputs": [],
   "source": [
    "class BoV():\n",
    "    def __init__(self, w2v):\n",
    "        self.w2v = w2v\n",
    "    \n",
    "    def encode(self, sentences, idf=False):\n",
    "        # takes a list of sentences, outputs a numpy array of sentence embeddings\n",
    "        # see TP1 for help\n",
    "        words = list(self.w2v.word2vec.keys())\n",
    "        if idf is False:\n",
    "            sentemb = [np.mean([self.w2v.word2vec[w] if w in words else np.zeros(shape=(1,300)) for w in sent.split()], \n",
    "                               axis=0) for sent in sentences]\n",
    "        else:\n",
    "            sentemb = [np.sum([np.dot(self.w2v.word2vec[w],idf.get(w,1)) if w in words else np.zeros(shape=(1,300)) \n",
    "                                            for w in sent.split()], axis = 0)/np.sum(np.array([idf[w] if w in words else 1 for w in sent.split()]))\n",
    "                       for sent in sentences]\n",
    "        return np.vstack(sentemb)\n",
    "\n",
    "    def most_similar(self, s, sentences, idf=False, K=5):\n",
    "        # get most similar sentences and **print** them\n",
    "        keys = self.encode(sentences, idf)\n",
    "        query = self.encode([s], idf)\n",
    "        keys = keys/np.linalg.norm(keys, 2, 1)[:, None]  # normalize embeddings\n",
    "        query = query/np.linalg.norm(query, 2)\n",
    "        scores = np.dot(query, keys.T)  # dot-product of normalized vector = cosine similarity\n",
    "        idxs = scores[0].argsort()[-K:][::-1]\n",
    "        return np.take(sentences, idxs)\n",
    "             \n",
    "    def score(self, s1, s2, idf=False):\n",
    "        # cosine similarity: use   np.dot  and  np.linalg.norm\n",
    "        s1_vec = self.encode([s1], idf)\n",
    "        s2_vec = self.encode([s2], idf)\n",
    "        return np.dot(s1_vec,s2_vec.T)/(np.linalg.norm(s1_vec,2)*np.linalg.norm(s2_vec,2))\n",
    "    \n",
    "    def build_idf(self, sentences):\n",
    "        # build the idf dictionary: associate each word to its idf value\n",
    "        idf = {}\n",
    "        for sent in sentences:\n",
    "            for w in sent.split():\n",
    "                idf[w] = idf.get(w, 0) + 1\n",
    "        for word in list(idf.keys()):\n",
    "            idf[word] = max(1, np.log10(len(sentences) / (idf[word])))\n",
    "        return idf  "
   ]
  },
  {
   "cell_type": "code",
   "execution_count": 10,
   "metadata": {},
   "outputs": [
    {
     "name": "stdout",
     "output_type": "stream",
     "text": [
      "Loaded 55000 pretrained word vectors\n",
      "Top 5 NNs of are : \n",
      "\n",
      "1)  1 smiling african american boy .\n",
      "2)  an african american man smiling .\n",
      "3)  a little african american boy and girl looking up .\n",
      "4)  an african american in sunglasses and a white tee-shirt smiles .\n",
      "5)  an afican american woman standing behind two small african american children .\n",
      "score BoV-mean :  [[0.57262589]]\n",
      "\n",
      "\n",
      "Top 5 NNs of are : \n",
      "\n",
      "1)  1 smiling african american boy .\n",
      "2)  an african american man smiling .\n",
      "3)  an african american man is sitting .\n",
      "4)  a little african american boy and girl looking up .\n",
      "5)  an afican american woman standing behind two small african american children .\n",
      "score BoV-idf:  [[0.4750928]]\n"
     ]
    }
   ],
   "source": [
    "w2v = Word2vec(os.path.join(PATH_TO_DATA, 'crawl-300d-200k.vec'), nmax=55000)\n",
    "s2v = BoV(w2v)\n",
    "\n",
    "# Load sentences in \"PATH_TO_DATA/sentences.txt\"\n",
    "sentences = []\n",
    "with open('data/sentences.txt') as f:\n",
    "    for i, line in enumerate(f):\n",
    "        sent = line.rstrip()\n",
    "        sentences.append(sent)\n",
    "\n",
    "# You will be evaluated on the output of the following:\n",
    "most_similar_mean = s2v.most_similar(sentences[10], sentences)# BoV-mean\n",
    "print('Top 5 NNs of are : \\n')\n",
    "for i, sent in enumerate(most_similar_mean):\n",
    "    print(str(i+1)+') ', sent)   \n",
    "print('score BoV-mean : ', s2v.score(sentences[7],sentences[13]))\n",
    "print('\\n')\n",
    "idf = s2v.build_idf(sentences)  \n",
    "most_similar_idf = s2v.most_similar(sentences[10], sentences, idf)# BoV-idf\n",
    "print('Top 5 NNs of are : \\n')\n",
    "for i, sent in enumerate(most_similar_idf):\n",
    "    print(str(i+1)+') ', sent)   \n",
    "print('score BoV-idf: ', s2v.score(sentences[7],sentences[13], idf))"
   ]
  },
  {
   "cell_type": "markdown",
   "metadata": {},
   "source": [
    "# 2) Multilingual (English-French) word embeddings"
   ]
  },
  {
   "cell_type": "markdown",
   "metadata": {},
   "source": [
    "Let's consider a bilingual dictionary of size V_a (e.g French-English).\n",
    "\n",
    "Let's define **X** and **Y** the **French** and **English** matrices.\n",
    "\n",
    "They contain the embeddings associated to the words in the bilingual dictionary.\n",
    "\n",
    "We want to find a **mapping W** that will project the source word space (e.g French) to the target word space (e.g English).\n",
    "\n",
    "Procrustes : **W\\* = argmin || W.X - Y ||  s.t  W^T.W = Id**\n",
    "has a closed form solution:\n",
    "**W = U.V^T  where  U.Sig.V^T = SVD(Y.X^T)**\n",
    "\n",
    "In what follows, you are asked to: "
   ]
  },
  {
   "cell_type": "code",
   "execution_count": 11,
   "metadata": {},
   "outputs": [
    {
     "name": "stdout",
     "output_type": "stream",
     "text": [
      "Loaded 50000 pretrained word vectors\n",
      "Loaded 50000 pretrained word vectors\n"
     ]
    }
   ],
   "source": [
    "# 1 - Download and load 50k first vectors of\n",
    "#     https://s3-us-west-1.amazonaws.com/fasttext-vectors/wiki.en.vec\n",
    "#     https://s3-us-west-1.amazonaws.com/fasttext-vectors/wiki.fr.vec\n",
    "\n",
    "en2v = Word2vec(os.path.join(PATH_TO_DATA, 'wiki.en.vec'), nmax=50000)\n",
    "fr2v = Word2vec(os.path.join(PATH_TO_DATA, 'wiki.fr.vec'), nmax=50000)"
   ]
  },
  {
   "cell_type": "code",
   "execution_count": 12,
   "metadata": {},
   "outputs": [],
   "source": [
    "# 2 - Get words that appear in both vocabs (= identical character strings)\n",
    "#     Use it to create the matrix X and Y (of aligned embeddings for these words)\n",
    "\n",
    "# common vocab\n",
    "en_words = list(en2v.word2vec.keys())\n",
    "fr_words = list(fr2v.word2vec.keys())\n",
    "inter_vocab = list(set(en_words) & set(fr_words))\n",
    "\n",
    "# target and sources matrix X and Y\n",
    "X = np.array([fr2v.word2vec[word] for word in inter_vocab])\n",
    "Y = np.array([en2v.word2vec[word] for word in inter_vocab])"
   ]
  },
  {
   "cell_type": "code",
   "execution_count": 13,
   "metadata": {
    "collapsed": true
   },
   "outputs": [],
   "source": [
    "# 3 - Solve the Procrustes using the scipy package and: scipy.linalg.svd() and get the optimal W\n",
    "#     Now W*French_vector is in the same space as English_vector\n",
    "from scipy import linalg\n",
    "\n",
    "# computing the SVD of XY^T is faster than the one of YX^T\n",
    "V, Sigma, U_t = linalg.svd(np.dot(Y.T,X))\n",
    "W_opt = np.dot(V,U_t)"
   ]
  },
  {
   "cell_type": "code",
   "execution_count": 14,
   "metadata": {},
   "outputs": [
    {
     "name": "stdout",
     "output_type": "stream",
     "text": [
      "From French to English\n",
      "lunette : ['telescopic' 'telescopes' 'binoculars' 'telescope' 'rangefinder']\n",
      "écran : ['screen' 'onscreen' 'screens' 'projector' 'pixels']\n",
      "livre : ['book' 'preface' 'foreword' 'afterword' 'livre']\n",
      "nuage : ['clouds' 'cloud' 'plumes' 'ionized' 'thunderstorm']\n",
      "immeuble : ['apartment' 'building' 'townhouse' 'townhouses' 'apartments']\n",
      "argent : ['gold' 'silver' 'bullion' 'bronze' 'medallist']\n",
      "piscine : ['swimming' 'pool' 'toilets' 'foyer' 'playgrounds']\n",
      "\n",
      "From English to French\n",
      "dog : ['dog' 'chien' 'hound' 'chiens' 'chienne']\n",
      "cat : ['cat' 'chat' 'dog' 'chats' 'chien']\n",
      "computer : ['computer' 'informatique' 'ordinateurs' 'ordinateur' 'computing']\n",
      "desk : ['desk' 'room' 'please' 'svp' 'secretary']\n",
      "family : ['famille' 'family' 'familles' 'familial' 'families']\n",
      "friend : ['ami' 'amie' 'friend' 'camarade' 'admirateur']\n",
      "car : ['voiture' 'voitures' 'automobile' 'porsche' 'automobiles']\n"
     ]
    }
   ],
   "source": [
    "# 4 - After alignment with W, give examples of English nearest neighbors of some French words (and vice versa)\n",
    "#     You will be evaluated on that part and the code above\n",
    "en_words = ['dog','cat','computer','desk','family','friend','car']\n",
    "fr_words = ['lunette', 'écran','livre','nuage','immeuble','argent','piscine']\n",
    "fr2en_vec = np.array([np.dot(W_opt,fr2v.word2vec[word]) for word in fr_words])\n",
    "en2fr_vec = np.array([np.dot(W_opt.T,en2v.word2vec[word]) for word in en_words])\n",
    "\n",
    "K=5\n",
    "ind=0\n",
    "# most similar in english\n",
    "print('From French to English')\n",
    "for vec in fr2en_vec:\n",
    "    distances = np.array([np.dot(vec,en2v.word2vec[w])/(np.linalg.norm(vec,2)*np.linalg.norm(en2v.word2vec[w],2)) \n",
    "                          for w in list(en2v.word2vec.keys())])\n",
    "    similar_indices = np.argsort(distances)[-K:][::-1]\n",
    "    similar_words = np.take(list(en2v.word2vec.keys()), similar_indices)\n",
    "    print(fr_words[ind],':',similar_words[0:K])\n",
    "    ind=ind+1\n",
    "\n",
    "ind=0\n",
    "# most similar in french\n",
    "print('\\n'+'From English to French')\n",
    "for vec in en2fr_vec:\n",
    "    distances = np.array([np.dot(vec,fr2v.word2vec[w])/(np.linalg.norm(vec,2)*np.linalg.norm(fr2v.word2vec[w],2)) \n",
    "                          for w in list(fr2v.word2vec.keys())])\n",
    "    similar_indices = np.argsort(distances)[-K:][::-1]\n",
    "    similar_words = np.take(list(fr2v.word2vec.keys()), similar_indices)\n",
    "    print(en_words[ind],':',similar_words[0:K])\n",
    "    ind=ind+1"
   ]
  },
  {
   "cell_type": "markdown",
   "metadata": {},
   "source": [
    "If you want to dive deeper on this subject: https://github.com/facebookresearch/MUSE"
   ]
  },
  {
   "cell_type": "markdown",
   "metadata": {},
   "source": [
    "# 3) Sentence classification with BoV and scikit-learn"
   ]
  },
  {
   "cell_type": "code",
   "execution_count": 15,
   "metadata": {},
   "outputs": [],
   "source": [
    "# 1 - Load train/dev/test of Stanford Sentiment TreeBank (SST)\n",
    "#     (https://nlp.stanford.edu/~socherr/EMNLP2013_RNTN.pdf)\n",
    "\n",
    "# Train and dev data\n",
    "def xtr_data_labeled(path):\n",
    "    data_set= open(PATH_TO_DATA + \"SST/\" + path, \"r\",encoding=\"utf-8\").read()\n",
    "    data_set = data_set.split('\\n')\n",
    "    data_set = data_set[0:len(data_set)-1]\n",
    "    labels = [int(elem[0]) for elem in data_set]\n",
    "    data_set_final = [elem[2:-2] for elem in data_set]\n",
    "    return np.array(data_set_final), np.array(labels)\n",
    "    \n",
    "trainx, trainy  = xtr_data_labeled(\"stsa.fine.train\")\n",
    "devx, devy = xtr_data_labeled(\"stsa.fine.dev\")\n",
    "\n",
    "# Test data \n",
    "test_set= open(PATH_TO_DATA + \"SST/\" + \"stsa.fine.test.X\", \"r\").read()\n",
    "testx = test_set.split('\\n')\n",
    "testx = testx[0:len(testx)-1]"
   ]
  },
  {
   "cell_type": "code",
   "execution_count": 16,
   "metadata": {},
   "outputs": [
    {
     "name": "stdout",
     "output_type": "stream",
     "text": [
      "Loaded 200000 pretrained word vectors\n"
     ]
    }
   ],
   "source": [
    "# 2 - Encode sentences with the BoV model above\n",
    "w2v = Word2vec(os.path.join(PATH_TO_DATA, 'crawl-300d-200k.vec'), nmax=200000)\n",
    "s2v = BoV(w2v)\n",
    "sentemb = s2v.encode(trainx)\n",
    "sentemb_dev = s2v.encode(devx)"
   ]
  },
  {
   "cell_type": "code",
   "execution_count": 17,
   "metadata": {},
   "outputs": [],
   "source": [
    "idf = s2v.build_idf(trainx)\n",
    "idf_dev = s2v.build_idf(devx)\n",
    "sentemb_idf = s2v.encode(trainx,idf)\n",
    "sentemb_idf_dev = s2v.encode(devx,idf_dev)"
   ]
  },
  {
   "cell_type": "code",
   "execution_count": 19,
   "metadata": {},
   "outputs": [],
   "source": [
    "# Packages loading\n",
    "from sklearn.linear_model import LogisticRegression\n",
    "from sklearn.model_selection import GridSearchCV\n",
    "from sklearn import metrics, cross_validation\n",
    "from sklearn.metrics import accuracy_score"
   ]
  },
  {
   "cell_type": "code",
   "execution_count": 20,
   "metadata": {},
   "outputs": [
    {
     "name": "stdout",
     "output_type": "stream",
     "text": [
      "Dev acc :  0.4296094459582198\n",
      "Train acc :  0.4387874531835206\n"
     ]
    }
   ],
   "source": [
    "# 3 - Learn Logistic Regression on top of sentence embeddings using scikit-learn\n",
    "#     (consider tuning the L2 regularization on the dev set)\n",
    "\n",
    "# Logistic regression on BoV mean\n",
    "\n",
    "# Model\n",
    "logreg = LogisticRegression(C = 0.25, solver='lbfgs', multi_class='multinomial')\n",
    "\n",
    "X = sentemb\n",
    "y = trainy\n",
    "logreg.fit(X, y)\n",
    "\n",
    "# Accuracy on dev set\n",
    "pred_devy = logreg.predict(sentemb_dev)\n",
    "print('Dev acc : ', accuracy_score(devy, pred_devy))\n",
    "\n",
    "# Accuracy on train set with CV\n",
    "pred_trainy = cross_validation.cross_val_predict(logreg, sentemb, trainy, cv=10)\n",
    "print('Train acc : ', metrics.accuracy_score(trainy, pred_trainy))"
   ]
  },
  {
   "cell_type": "code",
   "execution_count": 21,
   "metadata": {},
   "outputs": [
    {
     "name": "stdout",
     "output_type": "stream",
     "text": [
      "tuned hpyerparameters :(best parameters)  {'C': 0.25}\n",
      "accuracy : 0.3905540417801998\n"
     ]
    }
   ],
   "source": [
    "# Grid Search\n",
    "param_grid = {'C': [x/100 for x in range(1,100)]}\n",
    "logreg=LogisticRegression(solver='lbfgs', multi_class='multinomial')\n",
    "logreg_opt = GridSearchCV(logreg, param_grid)\n",
    "X_dev = sentemb_dev\n",
    "y_dev = devy\n",
    "logreg_opt.fit(X_dev, y_dev)\n",
    "\n",
    "print(\"tuned hpyerparameters :(best parameters) \",logreg_opt.best_params_)\n",
    "print(\"accuracy :\",logreg_opt.best_score_)"
   ]
  },
  {
   "cell_type": "code",
   "execution_count": 22,
   "metadata": {},
   "outputs": [
    {
     "name": "stdout",
     "output_type": "stream",
     "text": [
      "Dev acc :  0.4287011807447775\n",
      "Train acc :  0.43340355805243447\n"
     ]
    }
   ],
   "source": [
    "# Logistic regression on BoV mean-idf\n",
    "logreg2 = LogisticRegression(C=0.25, solver='lbfgs', multi_class='multinomial')\n",
    "X2 = sentemb_idf\n",
    "y = trainy\n",
    "logreg2.fit(X2, y)\n",
    "\n",
    "# Accuracy on dev set\n",
    "pred_devy_idf = logreg2.predict(sentemb_idf_dev)\n",
    "print('Dev acc : ', accuracy_score(devy, pred_devy_idf))\n",
    "\n",
    "# Accuracy on train set with CV\n",
    "pred_trainy_idf = cross_validation.cross_val_predict(logreg2, sentemb_idf, trainy, cv=10)\n",
    "print('Train acc : ', metrics.accuracy_score(trainy, pred_trainy_idf))"
   ]
  },
  {
   "cell_type": "code",
   "execution_count": 23,
   "metadata": {},
   "outputs": [],
   "source": [
    "# 4 - Produce 2210 predictions for the test set (in the same order). One line = one prediction (=0,1,2,3,4).\n",
    "#     Attach the output file \"logreg_bov_y_test_sst.txt\" to your deliverable.\n",
    "#     You will be evaluated on the results of the test set.\n",
    "\n",
    "sentemb_test = s2v.encode(testx)\n",
    "pred_testy = logreg_opt.predict(sentemb_test)"
   ]
  },
  {
   "cell_type": "code",
   "execution_count": 26,
   "metadata": {},
   "outputs": [],
   "source": [
    "np.savetxt('./logreg_bov_y_test_sst.txt', [str(x) for x in pred_testy], fmt=\"%s\", delimiter=',') "
   ]
  },
  {
   "cell_type": "code",
   "execution_count": null,
   "metadata": {},
   "outputs": [],
   "source": [
    "# BONUS!\n",
    "# 5 - Try to improve performance with another classifier\n",
    "#     Attach the output file \"XXX_bov_y_test_sst.txt\" to your deliverable (where XXX = the name of the classifier)"
   ]
  },
  {
   "cell_type": "markdown",
   "metadata": {},
   "source": [
    "# 4) Sentence classification with LSTMs in Keras"
   ]
  },
  {
   "cell_type": "markdown",
   "metadata": {},
   "source": [
    "## 4.1 - Preprocessing"
   ]
  },
  {
   "cell_type": "code",
   "execution_count": 36,
   "metadata": {},
   "outputs": [],
   "source": [
    "import keras\n",
    "from keras.preprocessing.text import text_to_word_sequence\n",
    "from keras.utils.np_utils import to_categorical\n",
    "from keras.preprocessing.text import Tokenizer\n",
    "from keras.preprocessing.text import one_hot"
   ]
  },
  {
   "cell_type": "code",
   "execution_count": 30,
   "metadata": {
    "collapsed": true
   },
   "outputs": [],
   "source": [
    "# 1 - Load train/dev/test sets of SST\n",
    "\n",
    "# Train and dev data\n",
    "train_set= open(PATH_TO_DATA + \"SST/\" + \"stsa.fine.train\", \"r\").read()\n",
    "dev_set= open(PATH_TO_DATA + \"SST/\" + \"stsa.fine.dev\", \"r\").read()\n",
    "\n",
    "# Test data \n",
    "test_set= open(PATH_TO_DATA + \"SST/\" + \"stsa.fine.test.X\", \"r\").read()"
   ]
  },
  {
   "cell_type": "code",
   "execution_count": 31,
   "metadata": {},
   "outputs": [],
   "source": [
    "# 2 - Transform text to integers using keras.preprocessing.text.one_hot function\n",
    "#     https://keras.io/preprocessing/text/\n",
    "\n",
    "words_train = set(text_to_word_sequence(train_set))\n",
    "vocab_size_train = len(words_train)\n",
    "\n",
    "tokenizer = Tokenizer(num_words=vocab_size_train)\n",
    "tokenizer.fit_on_texts(trainx)\n",
    "\n",
    "train_data = tokenizer.texts_to_sequences(trainx)\n",
    "dev_data = tokenizer.texts_to_sequences(devx)                                       "
   ]
  },
  {
   "cell_type": "markdown",
   "metadata": {},
   "source": [
    "**Padding input data**\n",
    "\n",
    "Models in Keras (and elsewhere) take batches of sentences of the same length as input. It is because Deep Learning framework have been designed to handle well Tensors, which are particularly suited for fast computation on the GPU.\n",
    "\n",
    "Since sentences have different sizes, we \"pad\" them. That is, we add dummy \"padding\" tokens so that they all have the same length.\n",
    "\n",
    "The input to a Keras model thus has this size : (batchsize, maxseqlen) where maxseqlen is the maximum length of a sentence in the batch."
   ]
  },
  {
   "cell_type": "code",
   "execution_count": 32,
   "metadata": {},
   "outputs": [],
   "source": [
    "# 3 - Pad your sequences using keras.preprocessing.sequence.pad_sequences\n",
    "#     https://keras.io/preprocessing/sequence/\n",
    "\n",
    "maxlen = max([len(elem) for elem in train_data])\n",
    "\n",
    "x_train = keras.preprocessing.sequence.pad_sequences(train_data, maxlen=maxlen, dtype='int32', \n",
    "                                                               padding='pre', truncating='pre', value=0.0)\n",
    "x_val = keras.preprocessing.sequence.pad_sequences(dev_data, maxlen=maxlen, dtype='int32', \n",
    "                                                               padding='pre', truncating='pre', value=0.0)"
   ]
  },
  {
   "cell_type": "markdown",
   "metadata": {},
   "source": [
    "## 4.2 - Design and train your model"
   ]
  },
  {
   "cell_type": "code",
   "execution_count": 42,
   "metadata": {},
   "outputs": [],
   "source": [
    "# 4 - Design your encoder + classifier using keras.layers\n",
    "#     In Keras, Torch and other deep learning framework, we create a \"container\" which is the Sequential() module.\n",
    "#     Then we add components to this contained : the lookuptable, the LSTM, the classifier etc.\n",
    "#     All of these components are contained in the Sequential() and are trained together.\n",
    "\n",
    "\n",
    "# ADAPT CODE BELOW\n",
    "\n",
    "from keras.models import Sequential\n",
    "from keras.layers import Embedding, LSTM, Dense, Activation\n",
    "\n",
    "embed_dim  = x_train.shape[1]  # word embedding dimension\n",
    "nhid       = 64  # number of hidden units in the LSTM\n",
    "vocab_size = vocab_size_train  # size of the vocabulary\n",
    "n_classes  = 5\n",
    "\n",
    "model = Sequential()\n",
    "model.add(Embedding(vocab_size, embed_dim))\n",
    "model.add(LSTM(nhid, dropout=0.2, recurrent_dropout=0.2))\n",
    "model.add(Dense(n_classes, activation='sigmoid'))"
   ]
  },
  {
   "cell_type": "code",
   "execution_count": 43,
   "metadata": {},
   "outputs": [
    {
     "name": "stdout",
     "output_type": "stream",
     "text": [
      "_________________________________________________________________\n",
      "Layer (type)                 Output Shape              Param #   \n",
      "=================================================================\n",
      "embedding_3 (Embedding)      (None, None, 49)          751562    \n",
      "_________________________________________________________________\n",
      "lstm_3 (LSTM)                (None, 64)                29184     \n",
      "_________________________________________________________________\n",
      "dense_3 (Dense)              (None, 5)                 325       \n",
      "=================================================================\n",
      "Total params: 781,071\n",
      "Trainable params: 781,071\n",
      "Non-trainable params: 0\n",
      "_________________________________________________________________\n",
      "None\n"
     ]
    }
   ],
   "source": [
    "# 5 - Define your loss/optimizer/metrics\n",
    "\n",
    "loss_classif     =  'categorical_crossentropy' # find the right loss for multi-class classification\n",
    "optimizer        =  'adam' # find the right optimizer\n",
    "metrics_classif  =  ['accuracy']\n",
    "\n",
    "# Observe how easy (but blackboxed) this is in Keras\n",
    "model.compile(loss=loss_classif,\n",
    "              optimizer=optimizer,\n",
    "              metrics=metrics_classif)\n",
    "print(model.summary())"
   ]
  },
  {
   "cell_type": "code",
   "execution_count": 44,
   "metadata": {},
   "outputs": [
    {
     "name": "stdout",
     "output_type": "stream",
     "text": [
      "Train on 8544 samples, validate on 1101 samples\n",
      "Epoch 1/4\n",
      "8544/8544 [==============================] - 24s 3ms/step - loss: 1.5741 - acc: 0.2769 - val_loss: 1.5655 - val_acc: 0.2652\n",
      "Epoch 2/4\n",
      "8544/8544 [==============================] - 24s 3ms/step - loss: 1.4546 - acc: 0.3535 - val_loss: 1.3779 - val_acc: 0.3787\n",
      "Epoch 3/4\n",
      "8544/8544 [==============================] - 24s 3ms/step - loss: 1.1669 - acc: 0.4569 - val_loss: 1.3825 - val_acc: 0.3842\n",
      "Epoch 4/4\n",
      "8544/8544 [==============================] - 24s 3ms/step - loss: 0.9200 - acc: 0.5614 - val_loss: 1.5144 - val_acc: 0.3860\n"
     ]
    }
   ],
   "source": [
    "# 6 - Train your model and find the best hyperparameters for your dev set\n",
    "#     you will be evaluated on the quality of your predictions on the test set\n",
    "bs = 64\n",
    "n_epochs = 4\n",
    "y_train = to_categorical(trainy)\n",
    "y_val = to_categorical(devy)\n",
    "\n",
    "history = model.fit(x_train, y_train, batch_size=bs, epochs=n_epochs, validation_data=(x_val, y_val))"
   ]
  },
  {
   "cell_type": "code",
   "execution_count": 48,
   "metadata": {},
   "outputs": [
    {
     "data": {
      "image/png": "[encoded data removed]",
      "text/plain": [
       "<matplotlib.figure.Figure at 0x140846128>"
      ]
     },
     "metadata": {},
     "output_type": "display_data"
    }
   ],
   "source": [
    "# plot of the results\n",
    "\n",
    "import matplotlib.pyplot as plt\n",
    "plt.style.use('ggplot')\n",
    "\n",
    "def plot_history(history):\n",
    "    acc = history.history['acc']\n",
    "    val_acc = history.history['val_acc']\n",
    "    loss = history.history['loss']\n",
    "    val_loss = history.history['val_loss']\n",
    "    x = range(1, len(acc) + 1)\n",
    "\n",
    "    plt.figure(figsize=(12, 5))\n",
    "    plt.subplot(1, 2, 1)\n",
    "    plt.plot(x, acc, 'b', label='Training acc')\n",
    "    plt.plot(x, val_acc, 'r', label='Validation acc')\n",
    "    plt.title('Training and validation accuracy')\n",
    "    plt.legend()\n",
    "    plt.subplot(1, 2, 2)\n",
    "    plt.plot(x, loss, 'b', label='Training loss')\n",
    "    plt.plot(x, val_loss, 'r', label='Validation loss')\n",
    "    plt.title('Training and validation loss')\n",
    "    plt.legend()\n",
    "    plt.show()\n",
    "    \n",
    "plot_history(history)"
   ]
  },
  {
   "cell_type": "code",
   "execution_count": 54,
   "metadata": {
    "collapsed": true
   },
   "outputs": [],
   "source": [
    "# 7 - Generate your predictions on the test set using model.predict(x_test)\n",
    "#     https://keras.io/models/model/\n",
    "#     Log your predictions in a file (one line = one integer: 0,1,2,3,4)\n",
    "#     Attach the output file \"logreg_lstm_y_test_sst.txt\" to your deliverable.\n",
    "\n",
    "# prep-processing of test-data\n",
    "test_data = tokenizer.texts_to_sequences(testx)\n",
    "x_test = keras.preprocessing.sequence.pad_sequences(test_data, maxlen=maxlen, dtype='int32', \n",
    "                                                               padding='pre', truncating='pre', value=0.0)\n",
    "\n",
    "pred_testy_lstm_probs = model.predict(x_test)\n",
    "pred_testy_lstm = [list(probs).index(max(probs)) for probs in pred_testy_lstm_probs]"
   ]
  },
  {
   "cell_type": "code",
   "execution_count": 56,
   "metadata": {
    "collapsed": true
   },
   "outputs": [],
   "source": [
    "np.savetxt('./logreg_lstm_y_test_sst.txt', [str(x) for x in pred_testy_lstm], fmt=\"%s\", delimiter=',') "
   ]
  },
  {
   "cell_type": "markdown",
   "metadata": {},
   "source": [
    "## 4.3 -- innovate !"
   ]
  },
  {
   "cell_type": "code",
   "execution_count": null,
   "metadata": {
    "collapsed": true
   },
   "outputs": [],
   "source": [
    "# 8 - Open question: find a model that is better on your dev set\n",
    "#     (e.g: use a 1D ConvNet, use a better classifier, pretrain your lookup tables ..)\n",
    "#     you will get point if the results on the test set are better: be careful of not overfitting your dev set too much..\n",
    "#     Attach the output file \"XXX_XXX_y_test_sst.txt\" to your deliverable.\n",
    "# TYPE CODE HERE"
   ]
  }
 ],
 "metadata": {
  "kernelspec": {
   "display_name": "Python 3",
   "language": "python",
   "name": "python3"
  },
  "language_info": {
   "codemirror_mode": {
    "name": "ipython",
    "version": 3
   },
   "file_extension": ".py",
   "mimetype": "text/x-python",
   "name": "python",
   "nbconvert_exporter": "python",
   "pygments_lexer": "ipython3",
   "version": "3.6.8"
  }
 },
 "nbformat": 4,
 "nbformat_minor": 1
}
